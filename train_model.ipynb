{
 "cells": [
  {
   "cell_type": "code",
   "execution_count": 1,
   "metadata": {},
   "outputs": [],
   "source": [
    "import matplotlib.pyplot as plt\n",
    "import numpy as np\n",
    "import json\n",
    "import cv2\n",
    "import os"
   ]
  },
  {
   "cell_type": "code",
   "execution_count": 2,
   "metadata": {},
   "outputs": [
    {
     "name": "stderr",
     "output_type": "stream",
     "text": [
      "Using TensorFlow backend.\n"
     ]
    }
   ],
   "source": [
    "import keras\n",
    "from keras.preprocessing.image import array_to_img, img_to_array, load_img\n",
    "from keras.preprocessing.image import ImageDataGenerator\n",
    "from keras.models import Sequential\n",
    "from keras.models import model_from_json\n",
    "from keras.layers import Dense, Dropout, Flatten\n",
    "from keras.layers import Conv2D, MaxPooling2D\n",
    "from keras.callbacks import ReduceLROnPlateau\n",
    "from keras.utils import np_utils\n",
    "from keras import backend as K\n"
   ]
  },
  {
   "cell_type": "code",
   "execution_count": 3,
   "metadata": {},
   "outputs": [],
   "source": [
    "import tensorflow as tf\n",
    "from tensorflow.python.tools import freeze_graph, optimize_for_inference_lib\n",
    "\n",
    "from sklearn.model_selection import train_test_split\n",
    "\n",
    "# how many images to process before applying gradient correction\n",
    "batch_sz = 32\n",
    "\n",
    "# how many times the network should train on the whole dataset\n",
    "nb_epoch = 50\n",
    "\n",
    "# how many images to generate per image in datasets\n",
    "nb_gen = 20"
   ]
  },
  {
   "cell_type": "code",
   "execution_count": 4,
   "metadata": {},
   "outputs": [],
   "source": [
    "# create path if not exists\n",
    "def create_ifnex(directory):\n",
    "    if not os.path.exists(directory):\n",
    "        os.makedirs(directory)\n",
    "\n",
    "# exit program is path if not exists\n",
    "def exit_ifnex(directory):\n",
    "    if not os.path.exists(directory):\n",
    "        print(directory, 'does not exist')\n",
    "        exit()\n"
   ]
  },
  {
   "cell_type": "code",
   "execution_count": 5,
   "metadata": {},
   "outputs": [],
   "source": [
    "width, height, channel = 300, 280, 1\n",
    "grayscale = True\n",
    "dataset_folder = './gestures'\n",
    "file_format = 'png'\n"
   ]
  },
  {
   "cell_type": "code",
   "execution_count": 6,
   "metadata": {},
   "outputs": [],
   "source": [
    "# loads an opencv image from a filepath\n",
    "def get_img(path):\n",
    "    image = cv2.imread(path, 0) if grayscale else cv2.imread(path,channel)\n",
    "    image = cv2.resize(image, (width, height))\n",
    "    image = img_to_array(image)\n",
    "    image = image.reshape(width, height, channel)\n",
    "    return image"
   ]
  },
  {
   "cell_type": "code",
   "execution_count": 7,
   "metadata": {},
   "outputs": [],
   "source": [
    "def generate_data(path):\n",
    "    datagen = ImageDataGenerator(\n",
    "        rotation_range=40,\n",
    "        width_shift_range=0.2,\n",
    "        height_shift_range=0.2,\n",
    "        shear_range=0.2,\n",
    "        zoom_range=0.2,\n",
    "        horizontal_flip=True,\n",
    "        fill_mode='nearest')\n",
    "\n",
    "    classesFolders = os.listdir(path)\n",
    "    for folder in classesFolders:\n",
    "        files = os.listdir(os.path.join(path, folder))\n",
    "        for fl in files:\n",
    "            img = get_img(os.path.join(path, folder, fl))\n",
    "            img = img.reshape(1, width, height, channel)\n",
    "            i = 0\n",
    "            for batch in datagen.flow(img, batch_size=1, save_to_dir=os.path.join(path, folder), save_prefix='genfile', save_format=file_format):\n",
    "                i += 1\n",
    "                if i > nb_gen:\n",
    "                    break"
   ]
  },
  {
   "cell_type": "code",
   "execution_count": 8,
   "metadata": {},
   "outputs": [],
   "source": [
    "def load_data(dataset_path):\n",
    "    x_data = []\n",
    "    y_data = []\n",
    "    labels = []\n",
    "\n",
    "    classes = os.listdir(dataset_path)\n",
    "    for i in range(len(classes)):\n",
    "        files = os.listdir(os.path.join(dataset_path, classes[i]))\n",
    "        labels.append(classes[i])\n",
    "        for fl in files:\n",
    "            x_data.append(get_img(os.path.join(dataset_path, classes[i], fl)))\n",
    "            y_data.append(i)\n",
    "\n",
    "    x_data = np.array(x_data, dtype=\"float\") / 255.0\n",
    "    y_data = np.array(y_data)\n",
    "\n",
    "    y_data = keras.utils.np_utils.to_categorical(y_data)\n",
    "    return x_data, y_data, labels\n"
   ]
  },
  {
   "cell_type": "code",
   "execution_count": 9,
   "metadata": {},
   "outputs": [],
   "source": [
    "# split dataset into training and testing\n",
    "def split_dataset(x_data, y_data):\n",
    "    x_train, x_test, y_train, y_test = train_test_split(x_data, y_data, test_size=0.1, shuffle=True)\n",
    "    return x_train, y_train, x_test, y_test\n",
    "\n"
   ]
  },
  {
   "cell_type": "code",
   "execution_count": 17,
   "metadata": {},
   "outputs": [],
   "source": [
    "# build convolutional neural network\n",
    "def build_model(nb_classes):\n",
    "    model = Sequential()\n",
    "    model.add(Conv2D(filters=64, kernel_size=3, strides=1, padding='same', activation='relu', input_shape=[width,height,channel]))\n",
    "    model.add(MaxPooling2D(pool_size=2, strides=2, padding='same'))\n",
    "    model.add(Dropout(0.5))\n",
    "    model.add(Conv2D(filters=128, kernel_size=3, strides=1, padding='same', activation='relu'))\n",
    "    model.add(MaxPooling2D(pool_size=2, strides=2, padding='same'))\n",
    "    model.add(Dropout(0.5))\n",
    "    model.add(Conv2D(filters=256, kernel_size=3, strides=1, padding='same', activation='relu'))\n",
    "    model.add(MaxPooling2D(pool_size=2, strides=2, padding='same'))\n",
    "    model.add(Dropout(0.5))\n",
    "\n",
    "    model.add(Flatten())\n",
    "    model.add(Dense(256, activation='relu'))\n",
    "    model.add(Dropout(0.5))\n",
    "    model.add(Dense(nb_classes, activation='softmax'))\n",
    "\n",
    "    return model"
   ]
  },
  {
   "cell_type": "code",
   "execution_count": 11,
   "metadata": {},
   "outputs": [],
   "source": [
    "# train model with data\n",
    "def train(model, x_train, y_train):\n",
    "    model.compile(loss=keras.losses.categorical_crossentropy, optimizer=keras.optimizers.Adadelta(), metrics=['accuracy'])\n",
    "    history = model.fit(x_train, y_train, batch_size=batch_sz, epochs=nb_epoch, verbose=1, validation_split=0.3)\n",
    "    return history"
   ]
  },
  {
   "cell_type": "code",
   "execution_count": 12,
   "metadata": {},
   "outputs": [],
   "source": [
    "# save network model and network weights into files\n",
    "def save_model(model, network_path):\n",
    "    create_ifnex(network_path)\n",
    "    open(os.path.join(network_path, 'architecture.json'), 'w').write(model.to_json())\n",
    "    model.save_weights(os.path.join(network_path, 'weights.h5'), overwrite=True)"
   ]
  },
  {
   "cell_type": "code",
   "execution_count": 13,
   "metadata": {},
   "outputs": [],
   "source": [
    "# load network model and network weights from files\n",
    "def read_model(network_path):\n",
    "    exit_ifnex(network_path)\n",
    "    model = model_from_json(open(os.path.join(network_path, 'architecture.json')).read())\n",
    "    model.load_weights(os.path.join(network_path, 'weights.h5'))\n",
    "    return model"
   ]
  },
  {
   "cell_type": "code",
   "execution_count": 14,
   "metadata": {},
   "outputs": [],
   "source": [
    "def plot_history(history):\n",
    "    #  Accuracy\n",
    "    plt.plot(history.history['acc'])\n",
    "    plt.plot(history.history['val_acc'])\n",
    "    plt.title('model accuracy')\n",
    "    plt.ylabel('accuracy')\n",
    "    plt.xlabel('epoch')\n",
    "    plt.legend(['train', 'validation'], loc='upper left')\n",
    "    plt.show()\n",
    "\n",
    "    # Loss\n",
    "    plt.plot(history.history['loss'])\n",
    "    plt.plot(history.history['val_loss'])\n",
    "    plt.title('model loss')\n",
    "    plt.ylabel('loss')\n",
    "    plt.xlabel('epoch')\n",
    "    plt.legend(['train', 'validation'], loc='upper left')\n",
    "    plt.show()"
   ]
  },
  {
   "cell_type": "code",
   "execution_count": 15,
   "metadata": {},
   "outputs": [],
   "source": [
    "# export model for mobile devices (tensorflow lite)\n",
    "def export_model_for_mobile(dst, model_name, input_node_name, output_node_name):\n",
    "    tf.train.write_graph(K.get_session().graph_def, dst, \\\n",
    "        model_name + '_graph.pbtxt')\n",
    "\n",
    "    tf.train.Saver().save(K.get_session(), dst + '/' + model_name + '.chkp')\n",
    "\n",
    "    freeze_graph.freeze_graph(dst + '/' + model_name + '_graph.pbtxt', None, \\\n",
    "        False, dst + '/' + model_name + '.chkp', output_node_name, \\\n",
    "        \"save/restore_all\", \"save/Const:0\", \\\n",
    "        dst + '/frozen_' + model_name + '.pb', True, \"\")\n",
    "\n",
    "    input_graph_def = tf.GraphDef()\n",
    "    with tf.gfile.Open(dst + '/frozen_' + model_name + '.pb', \"rb\") as f:\n",
    "        input_graph_def.ParseFromString(f.read())\n",
    "\n",
    "    output_graph_def = optimize_for_inference_lib.optimize_for_inference(\n",
    "            input_graph_def, [input_node_name], [output_node_name],\n",
    "            tf.float32.as_datatype_enum)\n",
    "\n",
    "    with tf.gfile.FastGFile(dst + '/tensorflow_lite_' + model_name + '.pb', \"wb\") as f:\n",
    "        f.write(output_graph_def.SerializeToString())"
   ]
  },
  {
   "cell_type": "code",
   "execution_count": 18,
   "metadata": {},
   "outputs": [
    {
     "name": "stdout",
     "output_type": "stream",
     "text": [
      "Train on 77 samples, validate on 33 samples\n",
      "Epoch 1/50\n",
      "77/77 [==============================] - 116s 2s/step - loss: 4.0097 - acc: 0.4156 - val_loss: 6.9291 - val_acc: 0.3636\n",
      "Epoch 2/50\n",
      "77/77 [==============================] - 86s 1s/step - loss: 7.4304 - acc: 0.4286 - val_loss: 1.0886 - val_acc: 0.3636\n",
      "Epoch 3/50\n",
      "77/77 [==============================] - 86s 1s/step - loss: 0.8927 - acc: 0.6234 - val_loss: 0.9511 - val_acc: 0.3939\n",
      "Epoch 4/50\n",
      "77/77 [==============================] - 84s 1s/step - loss: 0.8147 - acc: 0.5974 - val_loss: 0.7296 - val_acc: 0.9394\n",
      "Epoch 5/50\n",
      "77/77 [==============================] - 84s 1s/step - loss: 0.3586 - acc: 0.8961 - val_loss: 0.3854 - val_acc: 0.9394\n",
      "Epoch 6/50\n",
      "77/77 [==============================] - 83s 1s/step - loss: 0.1958 - acc: 0.9221 - val_loss: 0.3998 - val_acc: 0.7879\n",
      "Epoch 7/50\n",
      "77/77 [==============================] - 84s 1s/step - loss: 0.3820 - acc: 0.8831 - val_loss: 0.2882 - val_acc: 0.9394\n",
      "Epoch 8/50\n",
      "77/77 [==============================] - 86s 1s/step - loss: 0.0804 - acc: 0.9740 - val_loss: 0.2931 - val_acc: 0.9394\n",
      "Epoch 9/50\n",
      "77/77 [==============================] - 84s 1s/step - loss: 0.0348 - acc: 1.0000 - val_loss: 0.1710 - val_acc: 0.9697\n",
      "Epoch 10/50\n",
      "77/77 [==============================] - 92s 1s/step - loss: 0.0144 - acc: 1.0000 - val_loss: 0.1744 - val_acc: 0.9394\n",
      "Epoch 11/50\n",
      "77/77 [==============================] - 92s 1s/step - loss: 0.0082 - acc: 1.0000 - val_loss: 0.1692 - val_acc: 0.9394\n",
      "Epoch 12/50\n",
      "77/77 [==============================] - 85s 1s/step - loss: 0.0023 - acc: 1.0000 - val_loss: 0.1725 - val_acc: 0.9394\n",
      "Epoch 13/50\n",
      "77/77 [==============================] - 86s 1s/step - loss: 0.0034 - acc: 1.0000 - val_loss: 0.1723 - val_acc: 0.9697\n",
      "Epoch 14/50\n",
      "77/77 [==============================] - 87s 1s/step - loss: 0.0101 - acc: 1.0000 - val_loss: 0.1853 - val_acc: 0.9394\n",
      "Epoch 15/50\n",
      "77/77 [==============================] - 89s 1s/step - loss: 0.0137 - acc: 1.0000 - val_loss: 0.1830 - val_acc: 0.9394\n",
      "Epoch 16/50\n",
      "77/77 [==============================] - 98s 1s/step - loss: 0.0025 - acc: 1.0000 - val_loss: 0.1856 - val_acc: 0.9394\n",
      "Epoch 17/50\n",
      "77/77 [==============================] - 91s 1s/step - loss: 0.0012 - acc: 1.0000 - val_loss: 0.1912 - val_acc: 0.9394\n",
      "Epoch 18/50\n",
      "77/77 [==============================] - 106s 1s/step - loss: 0.0017 - acc: 1.0000 - val_loss: 0.1825 - val_acc: 0.9394\n",
      "Epoch 19/50\n",
      "77/77 [==============================] - 88s 1s/step - loss: 0.0018 - acc: 1.0000 - val_loss: 0.1944 - val_acc: 0.9697\n",
      "Epoch 20/50\n",
      "77/77 [==============================] - 88s 1s/step - loss: 0.0041 - acc: 1.0000 - val_loss: 0.2396 - val_acc: 0.9697\n",
      "Epoch 21/50\n",
      "77/77 [==============================] - 87s 1s/step - loss: 0.0012 - acc: 1.0000 - val_loss: 0.2279 - val_acc: 0.9697\n",
      "Epoch 22/50\n",
      "77/77 [==============================] - 89s 1s/step - loss: 0.0016 - acc: 1.0000 - val_loss: 0.2126 - val_acc: 0.9697\n",
      "Epoch 23/50\n",
      "77/77 [==============================] - 87s 1s/step - loss: 8.0201e-04 - acc: 1.0000 - val_loss: 0.2078 - val_acc: 0.9697\n",
      "Epoch 24/50\n",
      "77/77 [==============================] - 89s 1s/step - loss: 0.0024 - acc: 1.0000 - val_loss: 0.2121 - val_acc: 0.9697\n",
      "Epoch 25/50\n",
      "77/77 [==============================] - 88s 1s/step - loss: 0.0015 - acc: 1.0000 - val_loss: 0.2100 - val_acc: 0.9697\n",
      "Epoch 26/50\n",
      "77/77 [==============================] - 86s 1s/step - loss: 4.0322e-04 - acc: 1.0000 - val_loss: 0.2168 - val_acc: 0.9697\n",
      "Epoch 27/50\n",
      "77/77 [==============================] - 87s 1s/step - loss: 3.7640e-04 - acc: 1.0000 - val_loss: 0.2154 - val_acc: 0.9697\n",
      "Epoch 28/50\n",
      "77/77 [==============================] - 87s 1s/step - loss: 0.0023 - acc: 1.0000 - val_loss: 0.1698 - val_acc: 0.9697\n",
      "Epoch 29/50\n",
      "77/77 [==============================] - 87s 1s/step - loss: 0.0012 - acc: 1.0000 - val_loss: 0.2052 - val_acc: 0.9697\n",
      "Epoch 30/50\n",
      "77/77 [==============================] - 87s 1s/step - loss: 4.8069e-04 - acc: 1.0000 - val_loss: 0.2006 - val_acc: 0.9697\n",
      "Epoch 31/50\n",
      "77/77 [==============================] - 86s 1s/step - loss: 0.0117 - acc: 0.9870 - val_loss: 0.2527 - val_acc: 0.9091\n",
      "Epoch 32/50\n",
      "77/77 [==============================] - 87s 1s/step - loss: 0.0028 - acc: 1.0000 - val_loss: 0.2129 - val_acc: 0.9697\n",
      "Epoch 33/50\n",
      "77/77 [==============================] - 93s 1s/step - loss: 5.8498e-04 - acc: 1.0000 - val_loss: 0.2118 - val_acc: 0.9697\n",
      "Epoch 34/50\n",
      "77/77 [==============================] - 90s 1s/step - loss: 3.7280e-04 - acc: 1.0000 - val_loss: 0.2115 - val_acc: 0.9697\n",
      "Epoch 35/50\n",
      "77/77 [==============================] - 87s 1s/step - loss: 6.1093e-04 - acc: 1.0000 - val_loss: 0.2121 - val_acc: 0.9697\n",
      "Epoch 36/50\n",
      "77/77 [==============================] - 86s 1s/step - loss: 2.6271e-04 - acc: 1.0000 - val_loss: 0.2141 - val_acc: 0.9697\n",
      "Epoch 37/50\n",
      "77/77 [==============================] - 88s 1s/step - loss: 2.4098e-04 - acc: 1.0000 - val_loss: 0.2135 - val_acc: 0.9697\n",
      "Epoch 38/50\n",
      "77/77 [==============================] - 87s 1s/step - loss: 4.2518e-04 - acc: 1.0000 - val_loss: 0.2344 - val_acc: 0.9697\n",
      "Epoch 39/50\n",
      "77/77 [==============================] - 87s 1s/step - loss: 3.1221e-04 - acc: 1.0000 - val_loss: 0.2395 - val_acc: 0.9697\n",
      "Epoch 40/50\n",
      "77/77 [==============================] - 86s 1s/step - loss: 6.1735e-04 - acc: 1.0000 - val_loss: 0.2354 - val_acc: 0.9697\n",
      "Epoch 41/50\n",
      "77/77 [==============================] - 87s 1s/step - loss: 2.8435e-04 - acc: 1.0000 - val_loss: 0.2361 - val_acc: 0.9697\n",
      "Epoch 42/50\n",
      "77/77 [==============================] - 87s 1s/step - loss: 4.0106e-04 - acc: 1.0000 - val_loss: 0.2368 - val_acc: 0.9697\n",
      "Epoch 43/50\n",
      "77/77 [==============================] - 86s 1s/step - loss: 1.0756e-04 - acc: 1.0000 - val_loss: 0.2354 - val_acc: 0.9697\n",
      "Epoch 44/50\n",
      "77/77 [==============================] - 86s 1s/step - loss: 2.3999e-04 - acc: 1.0000 - val_loss: 0.2368 - val_acc: 0.9697\n",
      "Epoch 45/50\n",
      "77/77 [==============================] - 86s 1s/step - loss: 0.0053 - acc: 1.0000 - val_loss: 0.2582 - val_acc: 0.9697\n",
      "Epoch 46/50\n",
      "77/77 [==============================] - 87s 1s/step - loss: 1.0856e-04 - acc: 1.0000 - val_loss: 0.2571 - val_acc: 0.9697\n",
      "Epoch 47/50\n",
      "77/77 [==============================] - 87s 1s/step - loss: 2.2648e-04 - acc: 1.0000 - val_loss: 0.2542 - val_acc: 0.9697\n",
      "Epoch 48/50\n",
      "77/77 [==============================] - 87s 1s/step - loss: 8.3594e-05 - acc: 1.0000 - val_loss: 0.2542 - val_acc: 0.9697\n",
      "Epoch 49/50\n",
      "77/77 [==============================] - 86s 1s/step - loss: 0.0013 - acc: 1.0000 - val_loss: 0.2537 - val_acc: 0.9697\n",
      "Epoch 50/50\n",
      "77/77 [==============================] - 87s 1s/step - loss: 3.9860e-04 - acc: 1.0000 - val_loss: 0.2576 - val_acc: 0.9697\n",
      "_________________________________________________________________\n",
      "Layer (type)                 Output Shape              Param #   \n",
      "=================================================================\n",
      "conv2d_4 (Conv2D)            (None, 300, 280, 64)      640       \n",
      "_________________________________________________________________\n",
      "max_pooling2d_4 (MaxPooling2 (None, 150, 140, 64)      0         \n",
      "_________________________________________________________________\n",
      "dropout_5 (Dropout)          (None, 150, 140, 64)      0         \n",
      "_________________________________________________________________\n",
      "conv2d_5 (Conv2D)            (None, 150, 140, 128)     73856     \n",
      "_________________________________________________________________\n",
      "max_pooling2d_5 (MaxPooling2 (None, 75, 70, 128)       0         \n",
      "_________________________________________________________________\n",
      "dropout_6 (Dropout)          (None, 75, 70, 128)       0         \n",
      "_________________________________________________________________\n",
      "conv2d_6 (Conv2D)            (None, 75, 70, 256)       295168    \n",
      "_________________________________________________________________\n",
      "max_pooling2d_6 (MaxPooling2 (None, 38, 35, 256)       0         \n",
      "_________________________________________________________________\n",
      "dropout_7 (Dropout)          (None, 38, 35, 256)       0         \n",
      "_________________________________________________________________\n",
      "flatten_2 (Flatten)          (None, 340480)            0         \n",
      "_________________________________________________________________\n",
      "dense_3 (Dense)              (None, 256)               87163136  \n",
      "_________________________________________________________________\n",
      "dropout_8 (Dropout)          (None, 256)               0         \n",
      "_________________________________________________________________\n",
      "dense_4 (Dense)              (None, 3)                 771       \n",
      "=================================================================\n",
      "Total params: 87,533,571\n",
      "Trainable params: 87,533,571\n",
      "Non-trainable params: 0\n",
      "_________________________________________________________________\n"
     ]
    },
    {
     "name": "stdout",
     "output_type": "stream",
     "text": [
      "WARNING:tensorflow:From C:\\Users\\User\\Anaconda3\\lib\\site-packages\\tensorflow\\python\\tools\\freeze_graph.py:249: FastGFile.__init__ (from tensorflow.python.platform.gfile) is deprecated and will be removed in a future version.\n",
      "Instructions for updating:\n",
      "Use tf.gfile.GFile.\n",
      "INFO:tensorflow:Restoring parameters from ../out/convnet.chkp\n",
      "INFO:tensorflow:Froze 10 variables.\n",
      "INFO:tensorflow:Converted 10 variables to const ops.\n",
      "13/13 [==============================] - 4s 297ms/step\n",
      "Accuracy: 100.00%\n"
     ]
    },
    {
     "data": {
      "image/png": "[encoded data removed]",
      "text/plain": [
       "<Figure size 432x288 with 1 Axes>"
      ]
     },
     "metadata": {
      "needs_background": "light"
     },
     "output_type": "display_data"
    },
    {
     "data": {
      "image/png": "[encoded data removed]",
      "text/plain": [
       "<Figure size 432x288 with 1 Axes>"
      ]
     },
     "metadata": {
      "needs_background": "light"
     },
     "output_type": "display_data"
    }
   ],
   "source": [
    "# generate data\n",
    "#generate_data(dataset_folder)\n",
    "\n",
    "    # Load data, split data\n",
    "x_data, y_data, labels = load_data(dataset_folder)\n",
    "x_train, y_train, x_test, y_test = split_dataset(x_data, y_data)\n",
    "\n",
    "    # Create network, train it, save it\n",
    "nb_classes = len(os.listdir(dataset_folder))\n",
    "model = build_model(nb_classes)\n",
    "history = train(model, x_train, y_train)\n",
    "model.summary()\n",
    "save_model(model, '../model')\n",
    "\n",
    "    # Export model for tensorflow lite + write labels\n",
    "export_model_for_mobile('../out', 'convnet', \"conv2d_1_input\", \"dense_2/Softmax\")\n",
    "fl = open('../out/labels.txt', 'w')\n",
    "for item in labels:\n",
    "    fl.write(\"%s\\n\" % item)\n",
    "\n",
    "    # Evaluate model on test data\n",
    "scores = model.evaluate(x_test, y_test)\n",
    "print(\"Accuracy: %.2f%%\" % (scores[1]*100))\n",
    "\n",
    "    # display graphs\n",
    "plot_history(history)"
   ]
  },
  {
   "cell_type": "code",
   "execution_count": null,
   "metadata": {},
   "outputs": [],
   "source": []
  }
 ],
 "metadata": {
  "kernelspec": {
   "display_name": "Python 3",
   "language": "python",
   "name": "python3"
  },
  "language_info": {
   "codemirror_mode": {
    "name": "ipython",
    "version": 3
   },
   "file_extension": ".py",
   "mimetype": "text/x-python",
   "name": "python",
   "nbconvert_exporter": "python",
   "pygments_lexer": "ipython3",
   "version": "3.6.8"
  }
 },
 "nbformat": 4,
 "nbformat_minor": 2
}
